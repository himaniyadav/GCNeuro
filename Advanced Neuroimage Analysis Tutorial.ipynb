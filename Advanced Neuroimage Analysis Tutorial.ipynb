{
 "cells": [
  {
   "cell_type": "markdown",
   "metadata": {
    "slideshow": {
     "slide_type": "slide"
    }
   },
   "source": [
    "# <p style=\"text-align: center;\"> Advanced Biomedical Imaging Analysis: </p>\n",
    "## <p style=\"text-align: center;\"> The Road Toward Deep Learning: \n",
    "## <p style=\"text-align: center;\"> Neuroimage Preprocessing and Postprocessing </p>\n",
    "\n",
    "### <p style=\"text-align: center;\"> Presented by Christian McDaniel </p>"
   ]
  },
  {
   "cell_type": "markdown",
   "metadata": {
    "slideshow": {
     "slide_type": "slide"
    }
   },
   "source": [
    "# <p style=\"text-align: center;\"> Background"
   ]
  },
  {
   "cell_type": "markdown",
   "metadata": {
    "slideshow": {
     "slide_type": "slide"
    }
   },
   "source": [
    "# <p style=\"text-align: center;\"> Background: \n",
    "\n",
    "## <p style=\"text-align: center;\"> Magnetic Resonance-Based Imaging"
   ]
  },
  {
   "attachments": {},
   "cell_type": "markdown",
   "metadata": {
    "slideshow": {
     "slide_type": "slide"
    }
   },
   "source": [
    "Optical Imaging | X-Ray Imaging | Magnetic Resonance Imaging\n",
    " :-----:|:----:|:----:\n",
    "![](https://aemstatic-ww1.azureedge.net/content/dam/VSD/print-articles/2014/06/insightf1-1406vsd.jpg) | ![](http://www.phenotypescreening.com/images/PSC-imaging-concept.png) | ![](https://www.howequipmentworks.com/wp-content/uploads/2015/01/yellow_section.gif)"
   ]
  },
  {
   "cell_type": "markdown",
   "metadata": {},
   "source": [
    "# Magnetic Resonance Imaging\n",
    "\n",
    " Signal Generation and Reception   | Tissue Differentiation      \n",
    ":------:|:------:\n",
    "<img src=\"data:image/png;base64,iVBORw0KGgoAAAANSUhEUgAAAMwAAAD3CAMAAABmQUuuAAACJVBMVEX////sAIzrAITsAInrAIbsAIomImL7sEAdQ4MbSooJjc7rAIMcRoYfPX0Nfr8aT48LhscVYaERb7AYVZUhNXUWXJwiMXEjLW0PdrclJ2cTaakGmNkIkdINf8AXWZkQdLWysrLn5+fe3t6EhITOzs7qAH0AAFW7u7vx8fHMzMx8fHz/ryuZmZmrq6uMjIwDpOX+8uJvb2/+6tFpaWn/szT9/f78zIyfn5/7t1T8vmj/+PD+5cb83O24uLj8qyX8xHj92asACWT92Kn93rj8ul796fQgG1/5xN/wU6ZXV1f95PPzg7j90Jf5vdsaFV1PT08AHGzEi0vin0TPz9qUalSMi6axfk/zf7v3rNIAbbn2n8vuMpkAD2OfnrTyabH1kcQAOIOosshfXYV2dJZYEWe0x9wAUp4yKmB4V1iCaGQAKHjdCowAAADWl0eUr82hc1JMSXk5OTlNO17xNXplS1qBPphMSJxTVHQ0dKXQoV5VU4ClgmKXj35oTFvIIpOgMJW2mG13i7BTP100UoTdlsVXeZc+TZxyhI9XfKxnan5+W1e7lGOPeW3OkUlJap4mZpmFocT0dmL2kYf5r7jxSm3zZmj0eGL8zre6Y59vAGzvP476vqzzcJW8hrCPTIz5q4D4jFX7upCDL5FnOou8OIiLbor+mD+jO5z5hkh4TINhLXDomE+3ocNQOIzXt9CHDHL1jaqneHuwan/KTYEgICDaYXLEPJcYxMGyAAAgAElEQVR4nO19/0PbVpavhGwLYoyxjQHTxNiywbJluxgkbAw23w0kxAGTBIgdYppiUliSNC9p07RNmmaa0maSZr7vztvX7Ta7OzP79k337b43f9+790q2dWVJdglbJjxOfyD1lY7Oud9079XnfA5B/HVLcnzgqE04POH5maM24fBkmuNGj9qGw5MZmj5qEw5PBtP84lHbcHgyTnPJo7bh0CSZpseP2oZDk0GOnyKmRxKDR23IYQiYASZonqa5ozbkEGQgTYuSOGpLDkGAMzw/QtPpY/G6WRyZGpih01NHbcdhSYKmpwYXEzPHYQ6YgSOGA3PAMVgLDMIpgE8njoUzyTSXphcHhmlu4qhNOQRJDoLBMgzmtKM25LBkmKNHktPDw8dhq7YIxs0Iz9P8MXh1JtEyAM5nx2IO4MF0Nr1I88NHbcohyODixADYQh+LBRqSqfTx8WUajJuJ8UTiOCzSkpw0BaSPwewM9zU8lxinj8XR0/TIOJgERuj0sTneWOS56aO24dAErAOO2oTDEzBkfvLxL1zTK70ye2DFSZ6eIZLj4rC5IhxYz4+RDfOYduFY38bBNU/z/LA0B7yWnsZlzmzMa5fmjebzB9cNN5yiM6Sxae7gehoVwUiShlWt0msGkqQO2tEGRuiyM6tAD/lf39E24GP6NGptzAwKDfONaZo7j3udnEF7AbgImPsxel5DzoHHkHmNUTOWh6Wa7YbJbJ9ZOSymy84gPXndieaQxGzUqbJrVJPO9CCXs01UzRhPDqdpDh2gnVPXM7a6pvLj3BiQg3VKfWcMjQ7cs4ZaZ8DeJpHWc4Y0ULVGz/U1NTX1XWnssQo5FGcGx/+FJH+dmKpdiy2itSZw5qzKbauUQWWyhH3bgAagsHXz5ctNbyMWQPFuNRnzWxptKmz9LWX4t/q6BhJp/n8CZ2iOU/0MqKlnzExtCKzy13MUmEM3BEK4aXO4HdbW4ouVuiYA8e6XnGZqt7n4uEYjkJs296Mm8/8qPqmjazrNf3a/ZG565I7luERt44h6PlDTQxqpYlfn9U3sRzCJGsB/f+612e32HpvT2rzzuL4vN0s99t5Xf3jqtlp2ah7E2m32Xtsf7jkdrTvX9X2hv1jv7n56z+YsFS/zyjMZpMf5h1dOR7NSj/ebRxT1faulq2DCHp8nz5MUab7XBqTbjrzRtQD54u7tFi93tFgmFd6wPT2wsK23x2nV9QbsxO53n2lvP9Nmt7lbdj7m8a+arK2qR2HTVsn91Lj7gbXV0uHqvyorOCsQs/MG0tzWfqr9jGheAW+8Glkp9YKrT7WLz+nI4j1tvwdYWNG1dFVDCUGM8F90t586ffrUmW5k714a+5qB6ynI9KyUbD1AbG7gTaerX1GZW9/33Tv91ltvnToDzbN0ZtUGQlXu93S3g8tPt4MqdbRaMnituXvPnDoNdSETO/q1dA2kP1pvO/XW22+/JerpuIM1DdIj2eS2NnfK9Nh67N3d3b2gPYH+LlMW1/tNj7399Ntvv326XTSgoF2dqGLsohHwOaDSujB7kacyXVktXVPcl/Yzoh6xUpZy8lHzQlPPlrO3DfZOsck68Y5GsCXFjZl39Jx56aw6Azq7pVPe0DW6TLc11Izz35T1tCGzdi7L9mS1eh6Ui/btbWLvFHu5K7MtV7tS6ik3qXTjtt6aYB84U+1moGXw/qzUldHQNUM77eKYaQd1bG3t2LkoO5MBerpxPaayHht8wNvg8bBpgDMmrGdstdigs3BIiy1n0h00L9zAXjgBgMfA7tGVlQ0aMDirumCzmbQGTYIG83tbeTaD/UHuzFZJ0yapycpDrcvUz8jUrjQ7wZA6cwb0QjidWro0axPJvhVOmmfOwKkZGuHKXlLqAqXdoBNAT00FDWfGebcTjWT4VHBl59ItblBLDxznFWdQy7xdbhmFM96iA9xp7+2FWlvA3J3R6udIHre6wXwCr7aJrvfLpnK2qssm6trWUDPFfWV1inOs+NTJPRkYqNamih5becyI/Q90M2y909LicNpsPTaoFU12lwgdWSlaweXgajTRK5U9Qbps9XUNpJ8XrW4nEIcVXbmNfQJsadWy6X4PeM3JZrOMC9O7WWyxOhxut6TVlNXfirQ0g8vB1Q7oC3gMNvdtFlulwpZmS5cL7wOYjPBfAUVAWpCayefYS1OuB9pUrbGbbuk9I40JZXVZLM2tLS0trc1Aq8uU+ZNBd3O3smRpRZdbLOgx+Cv4SYdcV1Z7PQOWM5ZiMxCkZvKi4ttss5YeoQT6hR2uAOBIc9XMMEyhwwKloxO2yzZpNMzrTQGXlqTLwVNM/Yq3onepU65LR89Emr6909EBLnRlJm/xNL5sZpY6NPRsFmHvdEsdQ/l8UNmFTFcnUAqNeyBcawJrT7291aVJV2dXF3Qlo6IrW9V1W3dhNJXmb20vLS0VCnf3lL7o6XlcRL2zGfmi0vTs9f7+bCaT7c9A4+ZIymjWOyla2e7Pgodk+x+obFmgrgzorf2aS5myjNIcnXu+vJzj0+O12xmkx6SmZ3PH0ozaTKUukXg3r7/zzvVNsTmF+XoniStX/+7df72qsftiN//07rtlXboyPcIDoTU+/Xu19Hgfd4EG7cr8qbGdcf0dfB+lewagd3grl7N9evV2jtLSw6ys7BrJxp5RX+odaDTqjOrpTFk0TmdEmW/4PKuuHJIz5w3UvNoBjCi6zqwZDIf1keBwnMmbSZLSPuzSdWbWAF8iDT2mnuiOmXONjpm1psph14/VI8xT4NbDObzdyKsckZZlLq/72pUJsKhJW5GenjGzkSQPbdQcigjUgXvKGHi3H9p8djhyvunAXwyFeXNjnxp+OnmdjrL6E3xXO5ETOZETOZETOZHjKmd1Twk2Dg7ROgrJm3XWRWt9//WIl0MUCFzS3GqAPaDOJuWvTiBwyaDZ0dAeUHtn/1NLvX1iXg+itYagVTrYOrlcOae3BxCuXdMdffXsnD1/bZ6sh6dZmwd71lWN58yukqRxvjEo4Nm+Jr2ZZK7PrGfKfA2+S3m7waB59FaVWbPeedcqZW7wDEANoiW3xmDQcUYw1zsHhIi1+qbUdabBuVn/EBA4Q+k4s2aoczojIBhfXSMOpWWSEzMQosUPq4eaJqcSfyTJX9CLtUfRwtbjFy/2543qpzMrL/dfvHi8JQh5imzS7cairv0m48ObGgfnKy//YjRc1wJwVWWC5/hlkvx9jk+PqKD/F9Mc/UuS/L8JPq1kC7jpdNtszhaK3FX5Mue9X3LanA5r0ZKnKHJstc7gBbpKfU0PW4pP1HTtl2x/MZufFot1PmkMp+movWQ2Pyp9uMzzNbU/w+W+7PnAbP6+9NUejyG4hPtO9O32lZl6tFRToVsQc2WHX3Z3jcZ83d6+D3R1P33ldFuba1FDSFfPq6c2R+vOA73GGU7vATVtvaUep7X4Hq8knhjhnq33trXZUfHHWIjgfvnb/b2/PG1Wwqq2Sva2NljY49yldnXBJkiXrYwDUIForZTg93sJotX1QF0DlMF0zg4/G7e32Xvc0BucfGYCAoXEYojguiwLq7vp7BZRFb09NoiGwD6rsU4JDQFxH4+6dGBVuC4JNoTpEnBkxZL2V/gEf78KNwGtuIxHANE0RLVUEVy5SrQT65bjXVot+OfmlzagVQaH0gJVSOY6cV04RAvokkGrLJ06EK1n63IgUAeOA5jmPrFLSAz0mOKnFTaXTXfvGTmCqEsOKBEcCgSRPnpuy12GVp3pFYFAcnvdSl3aEK0vFBAtOUIDgp56z5yuFnfsVGJR92292I1d8o/3sJfLDejM6AIbHztxaBWmi2kY7lWBaJVbeEeOnSHoXAW91IZAT0vPy7FbNhveNbrkeJctCQ51utw19LEzL2p0ySp/qwqtErusSQs7k6DddhmssRVHNRHcXknEyJSH5lIFjmZ1SrAqCVfpkrf+phWaV8VDdplcejOq292DYTS75F+2N1twXZ2mjMagmaEdNnu3BOlztzTXOiMiuKRJs7PqjNthAxYgLKqEBZS1zGYrgkNBOGwPgj3WaRmlLnnFbDVXdSFPM1oVM84/cYMXUhUEA6yVdbNEAjSAWCxiMQt7aalIhFUh6LIDoTSxMVOEKCUR14zgKFndN83jVkdZl7tGF4JWyXVltN40E1ysJEG0IAimwzWZ42UTwDD/oYjgEsFToIUrccKbCFaFgFPWZoieMcnrq7nF6kaFZcyV7my2otSVletqaXVIuiBMTA3aIkkyvQcUuSsgmMznGHp2MP1MXuzKXuTLMcKCBcKqHCJwCiKBsEdAOJQVFSJojT4QEPiO6ypg76zNnVZUKMF0TP2ausb594otLRChhUAwkzkc15zgP0QILqk4S1fbbWvJ0twKRAJh4XizDZdU2Cw+vx5Iu6oL+JLJ4ube7miuPElXV5KjHxQtCKEF1ExeVtAADKbpjiKEyECLM5N7cqYQCVaFAE8ZHAg437S71AlLO0TMlS4OEOkqlHVBuI9i3ezNiLo6kS69N9Zomr6xA4FLXaYl03INL+BUmv5wpxPimjKF7T0O2wRcynRBVBV8wjbui4Gk/tyVlQqzmp1cJlf7XWVdrpo9ACPTpV8vozy/d2O7UChs36K52qjZqTS/fNdVmCzcuUynFewN//SuqT+bLfRnrmL9AvhiGCOES/39hWy2v/8dTRiiXFYe9BdcLgieUhkSwiXwEJer0P9OvfCV5Eiap+kcDfZoEyrFMLyGzsFiWhGFDra5f9m8dEmJqgI/G9DOU1i5eunSpn4UgEy8//bDD99qGSusfPvDD1cb0TWwCOMYh7UCswcXZ2g6MVwTUH/NYFA9YzxPHuzT9VndM4BzjZ/OGEndAw1j7anX3NxrRIGqG1HPmUZPZ+oeNSnbQCDNpB4I6QBySM7MXqOM+TVtfMwqRW0oDyQ2YGzZoXpzSM7AY15jn9bhl2CGditPgdfAPU2NAo0akrN9egCe1aa+xpwZawLOaJ/SwVPrmkYYMxjVx//B5cqqXgj9aqPBn+cMujCreUplrFNacchHLvmmczqls5S5thH+ej/9jOkfBa+9UZ/g6n1i+Wl4J07kRGokzBJ+P/6Tlwigv/5wEP4fWC+L/0/E/VH9VSIDLgzjPwmseLMQjcA/4H8YHaC+NypeBv7lDZStUQrr96r8CuV9D7EQITwM4Q+C++Ef4oLXT6TA1Rf8DJFi/QE2EAPGpLzMkCeq6wuRep8I/h/CHyDYFMMCzwQPG4j64Q9EyueHumNEMA6qCPzCBFQM8nuIeID1eIlgJOgngDlEMMQG2UCQYDwsMIH1+/2MwCz4L0BlsO68KcJbaY1YVAhFPN4FJhyIDzGxYNiTirHRKAPMjjHxEBPzB2LeCwQB/sX4gpE6zvi8YR+b8nhC3vf9vlQAKoxEgWoGWOdjgG7wI/QqHIwMMQu1CpihcIyNexcCoA5CoCOAyo1HPQEmxFzw+qJBjycSCgyx8RgLDI0EFvwEC6yKAoclZyJAcSQ+FGCEeIiIRsORoI+IhghQ7PPGL6TiwVSUCIHriFQwzgT0nfH4oxGf1xeOAE3BoDd1wRP3B6MRBmhjAtEU1B0WQJWCX3w+qLWmZSLsEBGODMGrfCHUgKmwEAj7/MAINuzzeOOCzxsBFnqAshBqylCUiEuNPMReAIWe99lYCJjgY2I+JhSMpoA7wJlwJBzyB6Jh0DKR6JAQruuMd4EN+X3ReCT6Pui2nmg85B2KsrEYA5zxsTGfP8SEYH0OgX+pOuMhApGY5wK8KhT0DbEEuxBlw5GFIHAmEg95mDgLnIn6LyBDof1RT9UZUQTCG/EEsB9kfwX5L/UFXBlnYpiaHyeC4m/5H6raVH9kGtrlNyhs8OQFfSInciInciInciInciInciInciInciKHJ8KaKjeoHiUBIcznGwzjnp3X/Xo1Nj/fwGfAK7rGyLSdI/tUnjZL6Ya1jJm1OZhxmTPrRU8QV5r0grjKxpipRmJsZvNNFGlQc0b/m/OYgdL7JicT/VAQ4orB0EATN8a1IsBAC7ULB43k77Wp3ZO/o4x/3xDze/JXlPHfdRT9u5H6Vf1EBecN1OrKSl1WnzmDijMDw3zaSP43jl5Ufc7gOPcvJPkbLjFRT/vgCPdHdKU65mV6hvsFSf6RG6mXRGKlidzd2Sl0qMGJoLAsOijPGymDcswsprncz0nj7mc0x6s8ZjjNffS/jeR/PqM5WjdzWnI8zX/0H+KVidrWSc6k+Wf/aTT+x0fqgSRVedn6kGp61WrpzGbU+KuuPmktlpz7W+cM1Pzsedzf8XTii/X1h+ZHpdLP+drMdTNcDhTvGu6VWj7m9ZL0JWnuo/vrpV3qXsn6jOeVfg/w/Ge96x+Q5NPSk+Vaoi+Z7Jdsr3YfiRDMWsTg5k7R6oaI0w8Mtbw0w9xH9l6J/rb0JJFW9JAR7rN1BOHtsTmKH+rlTEnwn0hXOq3FIWWkSJLnv1yHYRqo+Oc1XL9VeeyAMFuJQlbJX0dcWmoGvkAs8K6x6WeKW8UAjzK02nJbkSd1GgV4lIuLH2pntFoEXkOG20qkCA7hG+d85WKbo2XnlmYCppUSDJ6pwJYVrI5XC5YWCOJua2+/Z37Yo5gjZmCARxX0DozAnsLTdqlYjP+4rJVoJJnOrUvo+W4YvbKzjIFeBxE9bpVIdyenlRcDsf5KpIuIwFLeNN7+jmYRJX/69Onu3p772K1VDl6J/nYpx8uKR7mP1+WRDx0urbzQE5xPCq5QJfMd5r7obT9d5uy0Nhdv8Oopi1h3L6yT07ArwJgBF0aFeD3T0WoVYw6QxSWsE05zX+L0txhtLbTBjsWkLD3XSNc7wvdIoSBSXEMBI/OlE+vlKI02RECa0ci/suLsRpaWozlcJlO1UMh2WVpBLxMtPg0sxui9h7lvcPpb19fyjjRD46EXHXj8B2ZtqbcNhmFIHbJjaVnmdhJ0AJFIt2wkTlxclS0bHpriMvXLPO2XnGkvV79Nfu84b5PR34L5w/WpvP0hq20ljgvZcFEjbRK9V7J3nzlVDdJYkjdxMv0MhXydPiXOD6D4uTxJ7kClArdqWgZzxoXGTDfksUb1W5TbMMx/Y7PL6W8zn8rRtzN0qVoMQy+yms7kSiLDbTlIQ+mMvBjMuYU9mTOD6Qpj/ooDhZRV2YPlKPhN6EwLmJlhzAmqNcyZKe4rR5n+Fk7sXbi1MP6jWtxs6Spc1piFZviS02avXAlDQeTBFVyuJCPShYE6ueokPy1LNS04eiAhdtnpLowLdaXfBPqZFbEGg9kbhpbIbRjknpVgYElPmf4W4+AF88PPS26bDTH0Ihr0Sa1sg4v8VzCkAzHcoredCZv3Rvgn1jIBLqyUzJ3qKwBlZaxc+VgkOC47jU3NQtbk6rC0iJEwPdBbnN+fpltbHFX628zn+MsunSuKXLqOFhTg8bVWJvUBFCkise7CSKBb2BtplHuGFU8uVyaScQ5LyOgtiuExotOmLBZncz1r6uqAwSBOFLxiLeLrg2lueQcS00oRHAVFgMcw/3GxXNzpymS0E6mP8O9JV1rglXdoHium+Q8tVQLc7N1yuyUTyBfZALrZ7ID8xg7ktCLWguk3AW+AIlAxVmuL5YnCiBn+450y/W2msKxcZtD8e6gYRmpkM7n0hIYvRJLj7+6UgzSy2znFmnQwTd8uluNBCp9XF3mD45V8P5I8LkrRM+CNWbM0E72xNCPa4Jr45WSCX97egfETmcKdXE2u1wGav9yFirOTd3OcTkrLQY6/tbMDaXSzkzdqE0eDUf7eklhcuIjlyB4BDaPgZC6KlVu4XbNBAx3N5Orq7ICswZO1QTjJEY6+fOPO9p0by7wygoMQ+8GtT0Hx189VNggKv3O37oIrL+6p5Yob5fncxbvb259fzGEbhIE0Pz0wjrUj2LIsTRZc7/6P2odc+bYLuuNymQou1fiJabAr42mYT1T17T7FS8Uj9XbOixy6klPj8kV5faTiYXnxFJ9WuVhgx5pUjiXGzMaNS4V+ILe1tqHE4NR33303rWnr4D9+990/TDeSZHBU98rk6D98990/yhthenGYppUMBZLkjbURHXkj5JNgvYweNGeWJHWPmqgG00YRc5RR93TGSMnDEVCXSGtsxs9RhjVFqqVVQyOHUIL+UdNZA9WoMz/mqGk0TSfGx7W24nNgX9yHnXDNNTVCwTM2T5LkhuZZ1Xk9MhlM1vJGMn9Nqw8IV/KkMV9l7B0Azmj27TkKHothp2zn9clmJNmAtLVmzXM+keankSNTSJSqemSKZBaywhplcRoTaTqtsaQAzlA1aebmGqHHhYeDOin9zhoajbIBHUEnmx7i+sWYp0ZpmlfJyoRkNq9PPaNnhN6J6BXgTWNxL6sGY15nppmnqpUylYAjhtbO+Sls9B0sK+KqdieDklcJ8FAXUvdkfNZQOesahVlyUdZvtfeMKPrkUpoi6E95sw0HeMzpT3trlUqBuZinFkfotGos5psmMzytvuR4I2URvDBVFz5vnCQHRwdQTsnjkCQbrEk5NPyPQf7iYegIWJmp7TreOIET8/TA6MTUsUiSvZimueFjMfqhDCbAS/M4ZJUnpsbHFxfhy/8YvGiGYdZiNJcdg+GPjpfASiat95H0TZEkbJaRgeSBXpivkV/8kGVW2h9MwQGje3KlJcJPk7O9EcmXF9UD4wcc/ucNhny9g4CfJiy6kkxnJC2l+v7RskqRRrXszFUR8rrHL7Mk1ejmbFZvPzVmII1oW58Em39+/EBDhqybtH3WqI9q+hEQLb2dZt4oHRFMqJB91so5lcwrY30Gss7RQJ1zs8YhWmsaNDZI5iCPh6GJgB9LNY4xMQH9qaadhbU1g87ZC5CB3xnJ349qrpQG/jtF/r12sVx0nSFmVykDPFUb5DQ+jWIyp3baTKBz2zEJ2FQrozMcgmhx46qzy3RChGjxGvngZJKc/iVJ/lLnVBr4CsfusNbXxLKs3Hy8/3JDNQ07VGL8oTCZ2VY7Oh9J889CJLX7yR6vciKXTHD8Z/9MUf/0SY7X/tQkXjqe5n5Lkr/V+AoA5QpyJslpfU2UXLlfcjrd1l3SoBYIu9JBkbuWzi5Tfy2xZwIiq+x/eHjPXfowxym7cpLnP7Ovrz96+MpR/Er7+BHKKMft+b5tMnwb2uO1etHPkDMD47qT8ssSYg98aqYe1qZMJzZ3WnabdlsQlZuSWwxisNrOnBEzixf3lDnsaT6KihHsojmnRHDJZDpNf7luX3/0qOQovkerXeh96f6eor53vGQJvfF30ymSPtrvPXzVXFB6A6kHn76q8P5hbVPBYEG0kaO5I4fX2SL3ybqMaPM2zWuZAfOt9yK3ITLtgcoL8abDZv9gd/ep1bKjR8hXTpkOuX2BQUuKge4Uv/SLLIomPJ8pzdsxiNZdPOk7QqPJii9qgJEgdu6L3nYJbuK2Aj1KZNpLp5TA2G1t1iMYtunx8cLEzRhXppz6dzD9mQyi5YYQLTmmZZqLruOoJloDPTeafrYuR/rsXFYMm5vOblnyXiWbc1VqU6Zjc9a+DQO1mORkmRNyiBZ0BoctDXP3FRCtZQ0gwDh/vxfLaI3jzQjWUaZZRv21M6u12JOnTO9R8vEShEMCJpX5ZeUJlRUQrVaL6waPQbQUJMyaEK0Evd5dxZtZWzsK+KtE5GuuopU0KY73FU/EUqYTbKlc2l1OAl71dZx3SvS35UTUGhAtqSYymqimj9bFx5wqA8qeY3OFDUtFrpOF/oVbblArnmUcOKPgZJY7AyFaEv0t6kYdmRs4RAvMQHJ23KWL6i2T5D8S3W4vY6vwDsmKFMcyHJlWEvgXVvjEMihMkTKdIMps2Wrp2Se4mIz+FnLw4mOGf8eBzR4FrTFD7yFkmkT7C3sH1jJiFvrTkGZZ5H529Wug42Up0901KdNBL1R2MxmH7EAaQbRstgoGKye3dpT7GCs2FbRmM9Ah3RUKYZRvHRszMHt8r5xm2aTljMTHWwGFKTJjb9nwCQDDoyb4J60V+ltQdgOfhDgaY8ct3NJ6zyzyMSk1uxtlVM/cxSBFbBG2MExFXiZA1upmRJXbF1ERK3iVBVuPxMgv1Yl89Taa3ttpbm1tEelvMybFm3uKuwyKWyR23OwdTaR4Mp1Dad4dVmsrtHVyD1eEMtpXaZZd2kTWiI8XYbkQ57KyBbdK8m6vWJyN88s7HRCCBZFVppzyxAQiuCQCXNPSHVr7nAsi05orFMKFi3gLE1eBq9VU5EoyZUzK3L4ifW/NyudmqUIK3VVDyDvC5T5f2nG5MtnCjRpiWojgen5bKr6oezhE8xeB2xA65TJNfq0MXRA6IeRNoll2mTImnROS65BxF6VMz6pRIW8h6Bzs9iqEvMNpfu/ijc8/vZhTxWCB7c7zi59+/umtnObCHkmS5pe3l3YywGvX5dot/lahA0LeRBbmmngFXP4268pmEX2v6izBvrQWiztdHX/3Z5XCwRkIreLBTlN12h1NwFJQXOcLRBK5/fXXF5d5TiVA5uokhLx1ijnqdXmsBYp6ePX69etXtWObvCsrP9NKmJMc/c1vfzOofQbwu9/84pcNHNgNonTrPK8eurSSKWSAJ6Dv3NbnOD7fEOxoltI61zgsiFbyV7/+tWZQmXD1QcblMtWha56dnafUYvxqRDPM7tAgWmuU7nHhFWPdaEASooUaepRGPzsPT+dIzTPPK/AUsbGwU/2jJuKKoamemlXE7dvAcbBgVo8tvQazqWljuTYgRKuBaFFCgGAug04KoQbiNM9DFQ3Bjs5tqB+g5ym9fgYRXNo58jA9sIW1cwM24sysmTRvvNY5/VmV0DqZzJn1LJTJmEGJ3sOlgW5G5F+bp/hKny5gcEMr3V+NHoNuE671acIEK3JAXJZc9GcroRE8IZK8fhPqfvH4q5OzJynTT+RETuREXlPYCtszW2bJrc/2zEb94VnNOmEAAAKZSURBVJqLCH80GlT8lJI0Yh/AmCrpc9Cr4L2GyuMEEVcc3Xj94g/xCPwbgBaJ1/r8cbkFEcKTEiD3tCfiJ4J+SJkssT2nRLbnIOPH2Z49RNQzpPJ9LswSQ6wX2R9g4O0BIghJrAMMy7AeloUU1FDDAgNsYZiUIARCXkbwKAxn/oYV/oZlPAKRYgRwFQFZrxmk2D+EKK1D0FjRkMiCvJKZBZHt2R+PpHyeVCRIeKOReMDv877PhMJBTzAajkT9kZg35o+mUgtBggX/jPhDKqde8WjUx8b8PuBW0OdfCA4FAqFwwJOKe/yBIW8sEI6D2ogG4+BeJsZEAvEQqCNPzDukcCaUSvmYCGhn5gK0y+ePMT7wRH8K3O0JhvzhKDA2AmmnQ5FgTG4IExfZnuNe1gMpp8OgmSNsMBpifJDtORQMBhhPELE9RyEtNeGNELGAV40ePO4NhpmYxxMPD3ni/jAb9qagBjYe8wfg/X7QNKDJfOBe0GyheDxGhP2eEBHF1z9MBNQf44PWxJmwEF5IxZm4J+UBHZ2NgxrwpKIRLxsB1xGhFLAS72aBeMxzwRuLgfqIxbyEcCHMggdBcmhPPBYIpphIMBINLjCxqB+yPcfCkZSqM6CbhfygFPSyaIyJQmd8HlAdUcRfHQ34gwHIOg1rhEl5Y+GoJ/y+3xMNKziomUg8FffH4qGg731vmAVXxdgLcSbmCxDesIeJhVOg/WMRaEjcw6gQWNesDX802zNeKuD/q6tJU10EJ7Cu1fQmUUILwYYzRZ3I/z8CXlcCmPfACyElRONgpn6Te4kveCHoDwZ9YdYX9oDZ/o3u8sEFz4IXvJ/YBX80GPT7456jtug1hA2zEcEXjxBRsGaKgkVfXU6vEzmREzk6+X/Z4dQBgFz1qAAAAABJRU5ErkJggg==\" alt=\"resonance\" width=\"300\" height=\"100\" /> | <img src=\"http://www.sprawls.org/mripmt/MRI04/MRI%204-5.jpg\" alt=\"contrast\" width=\"400\" />"
   ]
  },
  {
   "cell_type": "markdown",
   "metadata": {},
   "source": [
    "# Magnetic Resonance Imaging - Signal Localization\n",
    "\n",
    "Slice selection (Z-axis) | Phase Encoding (Y-axis) |  Frequency Encoding (X-axis)\n",
    ":------------:|:--------------:|:----------:\n",
    "<img src=\"https://static.cambridge.org/resource/id/urn:cambridge.org:id:binary:20170614045535012-0877:9781107706958:64323fig8_6.png?pub-status=live\" alt=\"slice\" width=\"300\" /> | <img src=\"http://www.sprawls.org/mripmt/MRI09/MR%209-9.jpg\" alt=\"phase\" width=\"400\" /> | ![](https://qph.fs.quoracdn.net/main-qimg-469528f82f58b9e29d7ac5c4320eb9a8) "
   ]
  },
  {
   "cell_type": "markdown",
   "metadata": {},
   "source": [
    "# Magnetic Resonance Imaging - Image Construction\n",
    "\n",
    "K-Space  | Fourier Transform  \n",
    ":---:|:----:\n",
    "<img src=\"http://mriquestions.com/uploads/3/4/5/7/34572113/8323914_orig.gif\" alt=\"kspace\" width=\"500\" /> | <img src=\"http://mriquestions.com/uploads/3/4/5/7/34572113/4062968_orig.png\" alt=\"kspace\" width=\"500\" height=\"500\" />"
   ]
  },
  {
   "cell_type": "markdown",
   "metadata": {},
   "source": [
    "# Noise: MRI Artifacts\n",
    "\n",
    "Signal Transmission - Zipper Effect | Signal Acquisition - Aliasing \n",
    ":------:|:-----:\n",
    "![](https://www.auntminnieeurope.com/user/images/content_images/sup_mri/2015_06_01_12_44_02_823_2015_06_01_MRI-insider-zipper-artifact.jpg)  | <img src=\"http://www.revisemri.com/images/aliasedhead.jpg\" alt=\"aliasing\" width=\"300\" height=\"100\" />\n"
   ]
  },
  {
   "cell_type": "markdown",
   "metadata": {},
   "source": [
    "# Noise: MRI Artifacts - Gradient-Related Artifacts\n",
    "\n",
    "![](https://www.humanconnectome.org/storage/app/media/art/mr-preprocessing-fig1.png)"
   ]
  },
  {
   "cell_type": "markdown",
   "metadata": {},
   "source": [
    "# Noise: MRI Artifacts - Magnetization\n",
    "\n",
    "Ghosting | Susceptibility\n",
    ":---:|:---:\n",
    "![](http://mriquestions.com/uploads/3/4/5/7/34572113/3830667_orig.jpg) | ![](https://www.researchgate.net/profile/Joachim_Kettenbach/publication/6649032/figure/download/fig7/AS:277845931773956@1443255041013/Susceptibility-artifact-Two-manifestations-of-a-susceptibility-artifact-originating-from.png)"
   ]
  },
  {
   "cell_type": "markdown",
   "metadata": {},
   "source": [
    "# Noise: MRI Artifacts - Magnetization\n",
    "\n",
    "**Chemical Shift:**\n",
    "![](http://mriquestions.com/uploads/3/4/5/7/34572113/6071647_orig.jpg)"
   ]
  },
  {
   "cell_type": "markdown",
   "metadata": {},
   "source": [
    "# The acquisition physics are directly tied to the artifacts......\n",
    "\n"
   ]
  },
  {
   "cell_type": "markdown",
   "metadata": {},
   "source": [
    "# The acquisition physics are directly tied to the artifacts......\n",
    "\n",
    "\n",
    "\n",
    "\n",
    "\n",
    "\n",
    "# <p style=\"text-align: right ;\">...... which are directly tied to the problematic processing"
   ]
  },
  {
   "cell_type": "markdown",
   "metadata": {},
   "source": [
    "## E.g., _Hidden Cues: Deep Learning for Alzheimer's Disease_ (2016)\n",
    "\n",
    "_  | tSNE\n",
    ":---:|:---:\n",
    "<p style=\"text-align: left;\">+ Used tri-axial RAW MRI data <br><br> + Transfer learning from AlexNet <br><br> + data augmentation via mirror flip <br><br> + 66.51% accuracy re: classification of AD v. HC |!<img src=\"data:image/jpeg;base64,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\" alt=\"tsne\" width=\"400\" />"
   ]
  },
  {
   "cell_type": "markdown",
   "metadata": {},
   "source": [
    "# Preprocessing"
   ]
  },
  {
   "cell_type": "markdown",
   "metadata": {},
   "source": [
    "# Preprocessing\n",
    "\n",
    "## Step 1: Dicom to Nifti"
   ]
  },
  {
   "cell_type": "markdown",
   "metadata": {},
   "source": [
    "# Preprocessing\n",
    "\n",
    "## Step 1: Dicom to Nifti\n",
    "\n",
    "DICOM | NIFTI\n",
    ":----:|:----:\n",
    "Digital Imaging and Communications in Medicine | Neuroimaging Informatics Technology Initiative\n",
    "Many volumes are taken for one image | Processing is concerned with the composite\n",
    "The emphasis is acquisition and interchange standards | The emphasis is compactibility and interpretability"
   ]
  },
  {
   "cell_type": "markdown",
   "metadata": {},
   "source": [
    "# Preprocessing\n",
    "\n",
    "## Step 1: Dicom to Nifti \n",
    "### BIDS: Brain Imaging Data Structure \n",
    "\n",
    "![](https://media.springernature.com/full/nature-static/assets/v1/image-assets/sdata201644-f1.jpg)\n",
    "\n"
   ]
  },
  {
   "cell_type": "markdown",
   "metadata": {
    "slideshow": {
     "slide_type": "slide"
    }
   },
   "source": [
    "```python\n",
    "import os \n",
    "import subprocess\n",
    "\n",
    "\"\"\"\n",
    "Create a folder for each **subject**, then for each **modality**,\n",
    "and then distinguish each imaging 'run'.\n",
    "\"\"\"\n",
    "\n",
    "# create list for a single modality\n",
    "rawdiffs = list(rootr for rootr,dirnamesr,filenamesr in os.walk(subject)\\\n",
    "                if len(rootr.split('/'))==6 and 'DTI' in rootr.split('/')[3])\n",
    "\n",
    "# generate the file structure and naming; and convert dcm to nii\n",
    "for rawdiff in rawdiffs:\n",
    "            run+=1\n",
    "            newfn = sub_name+'_run-0{}_dwi'.format(run) # new filename\n",
    "            newdir = os.path.join(main_dir,sub_name,'dwi/') # new path\n",
    "            # perform bash command dcm2niix\n",
    "            cmd = \"dcm2niix -b y -o {} -f {} {}\".format(newdir,newfn,rawdiff)\n",
    "            process = subprocess.Popen(cmd.split(), stdout=subprocess.PIPE)\n",
    "            output, error = process.communicate()\n",
    "            # move the file\n",
    "            if not os.path.exists(srcdata+sub_name):\n",
    "                os.mkdir(srcdata+sub_name)\n",
    "            os.rename(rawdiff,srcdata+sub_name+'/rawdcm_run-0{}/'.format(run))\n",
    "        run=0\n",
    "```"
   ]
  },
  {
   "cell_type": "markdown",
   "metadata": {},
   "source": [
    "PPMI | BIDS\n",
    ":----:|:----:\n",
    "![](ppmi_data_strxr.png) | ![](make_bids_data_strxr.png)"
   ]
  },
  {
   "cell_type": "code",
   "execution_count": 13,
   "metadata": {},
   "outputs": [
    {
     "data": {
      "text/plain": [
       "{'AcquisitionMatrixPE': 116,\n",
       " 'AcquisitionNumber': 1,\n",
       " 'AcquisitionTime': '10:36:41.432500',\n",
       " 'BandwidthPerPixelPhaseEncode': 23.618,\n",
       " 'BaseResolution': 116,\n",
       " 'ConversionSoftware': 'dcm2niix',\n",
       " 'ConversionSoftwareVersion': 'v1.0.20180622 (JP2:OpenJPEG) GCC6.1.0',\n",
       " 'DerivedVendorReportedEchoSpacing': 0.00073001,\n",
       " 'DeviceSerialNumber': '4TUMzYL029kw',\n",
       " 'DwellTime': 2.7e-06,\n",
       " 'EchoTime': 0.088,\n",
       " 'EffectiveEchoSpacing': 0.000365005,\n",
       " 'FlipAngle': 90,\n",
       " 'ImageOrientationPatientDICOM': [1, -1e-16, 0, 1e-16, 0.944949, -0.327218],\n",
       " 'ImageType': ['ORIGINAL', 'PRIMARY', 'M', 'ND', 'NORM', 'MOSAIC'],\n",
       " 'InPlanePhaseEncodingDirectionDICOM': 'COL',\n",
       " 'InstitutionName': 'Baylor_College_of_Medicine',\n",
       " 'MRAcquisitionType': '2D',\n",
       " 'MagneticFieldStrength': 3,\n",
       " 'Manufacturer': 'Siemens',\n",
       " 'ManufacturersModelName': 'TrioTim',\n",
       " 'Modality': 'MR',\n",
       " 'ParallelReductionFactorInPlane': 2,\n",
       " 'PartialFourier': 0.75,\n",
       " 'PatientPosition': 'HFS',\n",
       " 'PercentPhaseFOV': 100,\n",
       " 'PhaseEncodingDirection': 'j-',\n",
       " 'PhaseEncodingSteps': 90,\n",
       " 'PhaseResolution': 1,\n",
       " 'PixelBandwidth': 1595,\n",
       " 'ProtocolName': 'DTI',\n",
       " 'PulseSequenceDetails': '%SiemensSeq%_ep2d_diff',\n",
       " 'ReceiveCoilName': 'HeadMatrix',\n",
       " 'ReconMatrixPE': 116,\n",
       " 'RepetitionTime': 9,\n",
       " 'SAR': 0.2452,\n",
       " 'ScanOptions': 'PFP_FS',\n",
       " 'ScanningSequence': 'EP',\n",
       " 'SequenceName': '_ep_b0',\n",
       " 'SequenceVariant': 'SK_SP',\n",
       " 'SeriesDescription': 'DTI',\n",
       " 'SeriesNumber': 3,\n",
       " 'ShimSetting': [14415, -12729, 3293, 400, -102, -700, -291, -99],\n",
       " 'SliceThickness': 2,\n",
       " 'SliceTiming': [4.5175,\n",
       "  0,\n",
       "  4.6425,\n",
       "  0.125,\n",
       "  4.7675,\n",
       "  0.25,\n",
       "  4.895,\n",
       "  0.3775,\n",
       "  5.02,\n",
       "  0.5025,\n",
       "  5.145,\n",
       "  0.6275,\n",
       "  5.27,\n",
       "  0.7525,\n",
       "  5.395,\n",
       "  0.8775,\n",
       "  5.5225,\n",
       "  1.005,\n",
       "  5.6475,\n",
       "  1.13,\n",
       "  5.7725,\n",
       "  1.255,\n",
       "  5.8975,\n",
       "  1.38,\n",
       "  6.0225,\n",
       "  1.505,\n",
       "  6.15,\n",
       "  1.6325,\n",
       "  6.275,\n",
       "  1.7575,\n",
       "  6.4,\n",
       "  1.8825,\n",
       "  6.525,\n",
       "  2.0075,\n",
       "  6.65,\n",
       "  2.1325,\n",
       "  6.7775,\n",
       "  2.26,\n",
       "  6.9025,\n",
       "  2.385,\n",
       "  7.0275,\n",
       "  2.51,\n",
       "  7.1525,\n",
       "  2.635,\n",
       "  7.2775,\n",
       "  2.76,\n",
       "  7.405,\n",
       "  2.8875,\n",
       "  7.53,\n",
       "  3.0125,\n",
       "  7.655,\n",
       "  3.1375,\n",
       "  7.78,\n",
       "  3.2625,\n",
       "  7.905,\n",
       "  3.3875,\n",
       "  8.0325,\n",
       "  3.515,\n",
       "  8.1575,\n",
       "  3.64,\n",
       "  8.2825,\n",
       "  3.765,\n",
       "  8.4075,\n",
       "  3.89,\n",
       "  8.5325,\n",
       "  4.015,\n",
       "  8.66,\n",
       "  4.14,\n",
       "  8.785,\n",
       "  4.2675,\n",
       "  8.91,\n",
       "  4.3925],\n",
       " 'SoftwareVersions': 'syngo_MR_B15',\n",
       " 'SpacingBetweenSlices': 2,\n",
       " 'TotalReadoutTime': 0.0419756,\n",
       " 'TxRefAmp': 332.863}"
      ]
     },
     "execution_count": 13,
     "metadata": {},
     "output_type": "execute_result"
    }
   ],
   "source": [
    "\"\"\"\n",
    "dcm2niix creates a json file with pertinent header information\n",
    "\"\"\"\n",
    "{\n",
    "\t\"Modality\": \"MR\",\n",
    "\t\"MagneticFieldStrength\": 3,\n",
    "\t\"Manufacturer\": \"Siemens\",\n",
    "\t\"ManufacturersModelName\": \"TrioTim\",\n",
    "\t\"InstitutionName\": \"Baylor_College_of_Medicine\",\n",
    "\t\"DeviceSerialNumber\": \"4TUMzYL029kw\",\n",
    "\t\"PatientPosition\": \"HFS\",\n",
    "\t\"SoftwareVersions\": \"syngo_MR_B15\",\n",
    "\t\"MRAcquisitionType\": \"2D\",\n",
    "\t\"SeriesDescription\": \"DTI\",\n",
    "\t\"ProtocolName\": \"DTI\",\n",
    "\t\"ScanningSequence\": \"EP\",\n",
    "\t\"SequenceVariant\": \"SK_SP\",\n",
    "\t\"ScanOptions\": \"PFP_FS\",\n",
    "\t\"SequenceName\": \"_ep_b0\",\n",
    "\t\"ImageType\": [\"ORIGINAL\", \"PRIMARY\", \"M\", \"ND\", \"NORM\", \"MOSAIC\"],\n",
    "\t\"SeriesNumber\": 3,\n",
    "\t\"AcquisitionTime\": \"10:36:41.432500\",\n",
    "\t\"AcquisitionNumber\": 1,\n",
    "\t\"SliceThickness\": 2,\n",
    "\t\"SpacingBetweenSlices\": 2,\n",
    "\t\"SAR\": 0.2452,\n",
    "\t\"EchoTime\": 0.088,\n",
    "\t\"RepetitionTime\": 9,\n",
    "\t\"FlipAngle\": 90,\n",
    "\t\"PartialFourier\": 0.75,\n",
    "\t\"BaseResolution\": 116,\n",
    "\t\"ShimSetting\": [\n",
    "\t\t14415,\n",
    "\t\t-12729,\n",
    "\t\t3293,\n",
    "\t\t400,\n",
    "\t\t-102,\n",
    "\t\t-700,\n",
    "\t\t-291,\n",
    "\t\t-99\t],\n",
    "\t\"TxRefAmp\": 332.863,\n",
    "\t\"PhaseResolution\": 1,\n",
    "\t\"ReceiveCoilName\": \"HeadMatrix\",\n",
    "\t\"PulseSequenceDetails\": \"%SiemensSeq%_ep2d_diff\",\n",
    "\t\"PercentPhaseFOV\": 100,\n",
    "\t\"PhaseEncodingSteps\": 90,\n",
    "\t\"AcquisitionMatrixPE\": 116,\n",
    "\t\"ReconMatrixPE\": 116,\n",
    "\t\"BandwidthPerPixelPhaseEncode\": 23.618,\n",
    "\t\"ParallelReductionFactorInPlane\": 2,\n",
    "\t\"EffectiveEchoSpacing\": 0.000365005,\n",
    "\t\"DerivedVendorReportedEchoSpacing\": 0.00073001,\n",
    "\t\"TotalReadoutTime\": 0.0419756,\n",
    "\t\"PixelBandwidth\": 1595,\n",
    "\t\"DwellTime\": 2.7e-06,\n",
    "\t\"PhaseEncodingDirection\": \"j-\",\n",
    "\t\"SliceTiming\": [\n",
    "\t\t4.5175,\n",
    "\t\t0,\n",
    "\t\t4.6425,\n",
    "\t\t0.125,\n",
    "\t\t4.7675,\n",
    "\t\t0.25,\n",
    "\t\t4.895,\n",
    "\t\t0.3775,\n",
    "\t\t5.02,\n",
    "\t\t0.5025,\n",
    "\t\t5.145,\n",
    "\t\t0.6275,\n",
    "\t\t5.27,\n",
    "\t\t0.7525,\n",
    "\t\t5.395,\n",
    "\t\t0.8775,\n",
    "\t\t5.5225,\n",
    "\t\t1.005,\n",
    "\t\t5.6475,\n",
    "\t\t1.13,\n",
    "\t\t5.7725,\n",
    "\t\t1.255,\n",
    "\t\t5.8975,\n",
    "\t\t1.38,\n",
    "\t\t6.0225,\n",
    "\t\t1.505,\n",
    "\t\t6.15,\n",
    "\t\t1.6325,\n",
    "\t\t6.275,\n",
    "\t\t1.7575,\n",
    "\t\t6.4,\n",
    "\t\t1.8825,\n",
    "\t\t6.525,\n",
    "\t\t2.0075,\n",
    "\t\t6.65,\n",
    "\t\t2.1325,\n",
    "\t\t6.7775,\n",
    "\t\t2.26,\n",
    "\t\t6.9025,\n",
    "\t\t2.385,\n",
    "\t\t7.0275,\n",
    "\t\t2.51,\n",
    "\t\t7.1525,\n",
    "\t\t2.635,\n",
    "\t\t7.2775,\n",
    "\t\t2.76,\n",
    "\t\t7.405,\n",
    "\t\t2.8875,\n",
    "\t\t7.53,\n",
    "\t\t3.0125,\n",
    "\t\t7.655,\n",
    "\t\t3.1375,\n",
    "\t\t7.78,\n",
    "\t\t3.2625,\n",
    "\t\t7.905,\n",
    "\t\t3.3875,\n",
    "\t\t8.0325,\n",
    "\t\t3.515,\n",
    "\t\t8.1575,\n",
    "\t\t3.64,\n",
    "\t\t8.2825,\n",
    "\t\t3.765,\n",
    "\t\t8.4075,\n",
    "\t\t3.89,\n",
    "\t\t8.5325,\n",
    "\t\t4.015,\n",
    "\t\t8.66,\n",
    "\t\t4.14,\n",
    "\t\t8.785,\n",
    "\t\t4.2675,\n",
    "\t\t8.91,\n",
    "\t\t4.3925\t],\n",
    "\t\"ImageOrientationPatientDICOM\": [\n",
    "\t\t1,\n",
    "\t\t-1e-16,\n",
    "\t\t0,\n",
    "\t\t1e-16,\n",
    "\t\t0.944949,\n",
    "\t\t-0.327218\t],\n",
    "\t\"InPlanePhaseEncodingDirectionDICOM\": \"COL\",\n",
    "\t\"ConversionSoftware\": \"dcm2niix\",\n",
    "\t\"ConversionSoftwareVersion\": \"v1.0.20180622 (JP2:OpenJPEG) GCC6.1.0\"\n",
    "}\n"
   ]
  },
  {
   "cell_type": "code",
   "execution_count": 9,
   "metadata": {
    "slideshow": {
     "slide_type": "skip"
    }
   },
   "outputs": [],
   "source": [
    "import subprocess\n",
    "\n",
    "def bash_command(string_cmd): \n",
    "    process = subprocess.Popen(string_cmd.split(), stdout=subprocess.PIPE)\n",
    "    output, error = process.communicate()\n",
    "    return output"
   ]
  },
  {
   "cell_type": "code",
   "execution_count": 12,
   "metadata": {
    "slideshow": {
     "slide_type": "slide"
    }
   },
   "outputs": [
    {
     "data": {
      "text/plain": [
       "b''"
      ]
     },
     "execution_count": 12,
     "metadata": {},
     "output_type": "execute_result"
    }
   ],
   "source": [
    "# Let's check out our new nifty nifti image \n",
    "bash_command('fsleyes ./sub-05_run-01_dwi.nii')"
   ]
  },
  {
   "cell_type": "code",
   "execution_count": null,
   "metadata": {},
   "outputs": [],
   "source": [
    "# Produce b0's for 2 or more acquisitions\n",
    "bash_command('fslroi sub-05_run-01_dwi sub-05_run-01_b0 0 1')\n",
    "bash_command('fslroi sub-05_run-02_dwi sub-05_run-02_b0 0 1')\n",
    "bash_command('fslroi sub-05_run-03_dwi sub-05_run-03_b0 0 1')\n",
    "\n",
    "# merge the b0's\n",
    "bash_command('fslmerge -t sub-05_run-01-02-03_b0 sub-05_run-01_b0 sub-05_run-02_b0 sub-05_run-03_b0')"
   ]
  },
  {
   "cell_type": "markdown",
   "metadata": {},
   "source": [
    "### The acquisition parameters:\n",
    "\n",
    "+ Each acquisition (image) has a phase encode direction and a readout time (image acquisition)\n",
    "\n",
    "``` python\n",
    "\"TotalReadoutTime\": 0.0419756,\n",
    "\"PhaseEncodingDirection\": \"j-\",\n",
    "```\n",
    "+ Need at least two files that have opposing phase encode directions (along same axis) or different readout times\n"
   ]
  },
  {
   "cell_type": "code",
   "execution_count": null,
   "metadata": {},
   "outputs": [],
   "source": [
    "# Write file containing acquisition parameters\n",
    "bash_command('printf \"0 -1 0 0.0419756\\n0 -1 0 0.0419756\\n 0 -1 0 0.0408244\" > acq.txt')"
   ]
  },
  {
   "cell_type": "code",
   "execution_count": null,
   "metadata": {},
   "outputs": [],
   "source": [
    "# run topup\n",
    "bash_command('topup --imain=sub-05_run-01-02-03_b0 --datain=acq.txt --config=b02b0.cnf --out=sub-05_run-01-02-03_topup --iout=sub-05_run-01-02-03_b0_topup')"
   ]
  },
  {
   "cell_type": "code",
   "execution_count": null,
   "metadata": {},
   "outputs": [],
   "source": [
    "# create mask\n",
    "bash_command('fslmaths sub-05_run-01-02-03_b0_topup -Tmean sub-05_run-01-02-03_b0_topup')\n",
    "bash_command('bet sub-05_run-01-02-03_b0_topup sub-05_run-01-02-03_b0_brain -m')"
   ]
  },
  {
   "cell_type": "code",
   "execution_count": null,
   "metadata": {},
   "outputs": [],
   "source": [
    "# instruct fsl which slices belong to which acquisition parameters\n",
    "bash_command('indx=\"\"')\n",
    "bash_command('for ((i=1; i<=65; i+=1)); do indx=\"$indx 1\"; done')\n",
    "bash_command('echo $indx > index.txt')"
   ]
  },
  {
   "cell_type": "markdown",
   "metadata": {},
   "source": [
    "```python\n",
    "# run eddy \n",
    "\n",
    "eddy --imain=sub-05_run-01_dwi --mask=sub-05_run-01-02-03_b0_brain_mask\\\n",
    "    --acqp=acq.txt --index=index.txt --bvecs=sub-05_run-01_dwi.bvec\\\n",
    "    --bvals=sub-05_run-01_dwi.bval --topup=sub-05_run-01-02-03_topup\\\n",
    "    --out=sub-05_run-01_eddycorrected\n",
    "```\n",
    "\n",
    "`eddy_cuda`:\n",
    "+ basic eddy takes quite a long time to run\n",
    "+ can be run on a GPU, but uses CUDA version 7.5"
   ]
  },
  {
   "cell_type": "code",
   "execution_count": null,
   "metadata": {},
   "outputs": [],
   "source": [
    "bash_command('fsleyes sub-05_run-01_dwi.nii sub-05_run-02_dwi.nii sub-05_run-01_eddycorrected.nii.gz sub-05_run-01-02-03_b0_brain_mask.nii.gz sub-05_run-01-02-03_b0_brain.nii.gz sub-05_run-01-02-03_b0_topup.nii.gz sub-05_run-01-02-03_b0.nii.gz sub-05_run-03_dwi.nii')"
   ]
  },
  {
   "cell_type": "code",
   "execution_count": null,
   "metadata": {},
   "outputs": [],
   "source": []
  }
 ],
 "metadata": {
  "celltoolbar": "Slideshow",
  "kernelspec": {
   "display_name": "Python 3",
   "language": "python",
   "name": "python3"
  },
  "language_info": {
   "codemirror_mode": {
    "name": "ipython",
    "version": 3
   },
   "file_extension": ".py",
   "mimetype": "text/x-python",
   "name": "python",
   "nbconvert_exporter": "python",
   "pygments_lexer": "ipython3",
   "version": "3.6.4"
  }
 },
 "nbformat": 4,
 "nbformat_minor": 2
}
